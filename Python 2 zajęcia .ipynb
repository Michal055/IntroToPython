{
  "nbformat": 4,
  "nbformat_minor": 0,
  "metadata": {
    "colab": {
      "name": "Untitled1.ipynb",
      "provenance": [],
      "authorship_tag": "ABX9TyNeO8xf7fECEsY2RCl3QIKX",
      "include_colab_link": true
    },
    "kernelspec": {
      "name": "python3",
      "display_name": "Python 3"
    }
  },
  "cells": [
    {
      "cell_type": "markdown",
      "metadata": {
        "id": "view-in-github",
        "colab_type": "text"
      },
      "source": [
        "<a href=\"https://colab.research.google.com/github/Michal055/IntroToPython/blob/master/Python%202%20zaj%C4%99cia%20.ipynb\" target=\"_parent\"><img src=\"https://colab.research.google.com/assets/colab-badge.svg\" alt=\"Open In Colab\"/></a>"
      ]
    },
    {
      "cell_type": "code",
      "metadata": {
        "id": "CdjXGXp6RaM1",
        "colab_type": "code",
        "colab": {}
      },
      "source": [
        ""
      ],
      "execution_count": 0,
      "outputs": []
    },
    {
      "cell_type": "markdown",
      "metadata": {
        "id": "qIWBFkbwRbJ7",
        "colab_type": "text"
      },
      "source": [
        "# Sieci - zajęcia 3 - 9.03.2020\n"
      ]
    },
    {
      "cell_type": "code",
      "metadata": {
        "id": "b3gJeUWsRgo6",
        "colab_type": "code",
        "colab": {}
      },
      "source": [
        "Pirates = [\"The Curse of the Black Pearl\", \"Dead Man's Chest\", \"At World's End\"] "
      ],
      "execution_count": 0,
      "outputs": []
    },
    {
      "cell_type": "code",
      "metadata": {
        "id": "ApX-nuNtSJZw",
        "colab_type": "code",
        "outputId": "fba72ab9-c723-4cb0-afe9-50e8f4f14619",
        "colab": {
          "base_uri": "https://localhost:8080/",
          "height": 34
        }
      },
      "source": [
        "Pirates"
      ],
      "execution_count": 0,
      "outputs": [
        {
          "output_type": "execute_result",
          "data": {
            "text/plain": [
              "['The Curse of the Black Pearl', \"Dead Man's Chest\", \"At World's End\"]"
            ]
          },
          "metadata": {
            "tags": []
          },
          "execution_count": 2
        }
      ]
    },
    {
      "cell_type": "code",
      "metadata": {
        "id": "2F_oDO-BSY1H",
        "colab_type": "code",
        "outputId": "91f8309e-b52a-4aa0-9ad6-3b91bba31a71",
        "colab": {
          "base_uri": "https://localhost:8080/",
          "height": 34
        }
      },
      "source": [
        "print(Pirates)"
      ],
      "execution_count": 0,
      "outputs": [
        {
          "output_type": "stream",
          "text": [
            "['The Curse of the Black Pearl', \"Dead Man's Chest\", \"At World's End\"]\n"
          ],
          "name": "stdout"
        }
      ]
    },
    {
      "cell_type": "code",
      "metadata": {
        "id": "zGQeKIqUSbgK",
        "colab_type": "code",
        "outputId": "41e8d53f-f204-4724-94a2-9722c0b51e6b",
        "colab": {
          "base_uri": "https://localhost:8080/",
          "height": 34
        }
      },
      "source": [
        "len(Pirates)"
      ],
      "execution_count": 0,
      "outputs": [
        {
          "output_type": "execute_result",
          "data": {
            "text/plain": [
              "3"
            ]
          },
          "metadata": {
            "tags": []
          },
          "execution_count": 4
        }
      ]
    },
    {
      "cell_type": "code",
      "metadata": {
        "id": "y82OIimhSnh2",
        "colab_type": "code",
        "colab": {}
      },
      "source": [
        "Pirates.append(\"Dead Man's Chest\")"
      ],
      "execution_count": 0,
      "outputs": []
    },
    {
      "cell_type": "code",
      "metadata": {
        "id": "fc3AYKWSS0xX",
        "colab_type": "code",
        "outputId": "d988dd8c-0b43-44cb-842a-d7fff798f50d",
        "colab": {
          "base_uri": "https://localhost:8080/",
          "height": 85
        }
      },
      "source": [
        "Pirates"
      ],
      "execution_count": 0,
      "outputs": [
        {
          "output_type": "execute_result",
          "data": {
            "text/plain": [
              "['The Curse of the Black Pearl',\n",
              " \"Dead Man's Chest\",\n",
              " \"At World's End\",\n",
              " \"Dead Man's Chest\"]"
            ]
          },
          "metadata": {
            "tags": []
          },
          "execution_count": 6
        }
      ]
    },
    {
      "cell_type": "code",
      "metadata": {
        "id": "u75S3MycS2T5",
        "colab_type": "code",
        "outputId": "be66cef9-ec33-4ec0-d86d-e45672575301",
        "colab": {
          "base_uri": "https://localhost:8080/",
          "height": 34
        }
      },
      "source": [
        "Pirates.insert(1, \"kot\")\n",
        "print(Pirates)"
      ],
      "execution_count": 0,
      "outputs": [
        {
          "output_type": "stream",
          "text": [
            "['The Curse of the Black Pearl', 'kot', 'kot', \"Dead Man's Chest\", \"At World's End\", \"Dead Man's Chest\"]\n"
          ],
          "name": "stdout"
        }
      ]
    },
    {
      "cell_type": "code",
      "metadata": {
        "id": "vsqJWLjRTOsu",
        "colab_type": "code",
        "outputId": "a39bae4b-417b-4444-8f60-fb8f5cc3e005",
        "colab": {
          "base_uri": "https://localhost:8080/",
          "height": 34
        }
      },
      "source": [
        "Pirates.index(\"Dead Man's Chest\")"
      ],
      "execution_count": 0,
      "outputs": [
        {
          "output_type": "execute_result",
          "data": {
            "text/plain": [
              "3"
            ]
          },
          "metadata": {
            "tags": []
          },
          "execution_count": 9
        }
      ]
    },
    {
      "cell_type": "code",
      "metadata": {
        "id": "viAdw-1zTlqC",
        "colab_type": "code",
        "outputId": "6686bebd-32ff-4c2f-8712-f11bb99c61d1",
        "colab": {
          "base_uri": "https://localhost:8080/",
          "height": 34
        }
      },
      "source": [
        "Pirates[0]"
      ],
      "execution_count": 0,
      "outputs": [
        {
          "output_type": "execute_result",
          "data": {
            "text/plain": [
              "'The Curse of the Black Pearl'"
            ]
          },
          "metadata": {
            "tags": []
          },
          "execution_count": 10
        }
      ]
    },
    {
      "cell_type": "code",
      "metadata": {
        "id": "7-lNVi8ET3lD",
        "colab_type": "code",
        "outputId": "a0ec80b0-c30e-424a-8c1b-d7a5379b2209",
        "colab": {
          "base_uri": "https://localhost:8080/",
          "height": 163
        }
      },
      "source": [
        "Pirates.index(\"pies\")"
      ],
      "execution_count": 0,
      "outputs": [
        {
          "output_type": "error",
          "ename": "ValueError",
          "evalue": "ignored",
          "traceback": [
            "\u001b[0;31m---------------------------------------------------------------------------\u001b[0m",
            "\u001b[0;31mValueError\u001b[0m                                Traceback (most recent call last)",
            "\u001b[0;32m<ipython-input-11-9a3b9020f93c>\u001b[0m in \u001b[0;36m<module>\u001b[0;34m()\u001b[0m\n\u001b[0;32m----> 1\u001b[0;31m \u001b[0mPirates\u001b[0m\u001b[0;34m.\u001b[0m\u001b[0mindex\u001b[0m\u001b[0;34m(\u001b[0m\u001b[0;34m\"pies\"\u001b[0m\u001b[0;34m)\u001b[0m\u001b[0;34m\u001b[0m\u001b[0;34m\u001b[0m\u001b[0m\n\u001b[0m",
            "\u001b[0;31mValueError\u001b[0m: 'pies' is not in list"
          ]
        }
      ]
    },
    {
      "cell_type": "code",
      "metadata": {
        "id": "aXeHqTQXUOsG",
        "colab_type": "code",
        "outputId": "90f0e7d0-e835-4976-ea1b-a1fcf0afb311",
        "colab": {
          "base_uri": "https://localhost:8080/",
          "height": 34
        }
      },
      "source": [
        "\"The Curse of the Black Pearl\" in Pirates"
      ],
      "execution_count": 0,
      "outputs": [
        {
          "output_type": "execute_result",
          "data": {
            "text/plain": [
              "True"
            ]
          },
          "metadata": {
            "tags": []
          },
          "execution_count": 12
        }
      ]
    },
    {
      "cell_type": "code",
      "metadata": {
        "id": "zra2UyxeUd4n",
        "colab_type": "code",
        "outputId": "f18bf6f8-ddda-49df-f61c-bca2ba4c9703",
        "colab": {
          "base_uri": "https://localhost:8080/",
          "height": 34
        }
      },
      "source": [
        "\"Pies\" in Pirates"
      ],
      "execution_count": 0,
      "outputs": [
        {
          "output_type": "execute_result",
          "data": {
            "text/plain": [
              "False"
            ]
          },
          "metadata": {
            "tags": []
          },
          "execution_count": 13
        }
      ]
    },
    {
      "cell_type": "code",
      "metadata": {
        "id": "8R3nZvIiUhHh",
        "colab_type": "code",
        "outputId": "ae43a0fe-3fe4-4424-8252-f940cf605732",
        "colab": {
          "base_uri": "https://localhost:8080/",
          "height": 34
        }
      },
      "source": [
        "\"The Curse \" in Pirates"
      ],
      "execution_count": 0,
      "outputs": [
        {
          "output_type": "execute_result",
          "data": {
            "text/plain": [
              "False"
            ]
          },
          "metadata": {
            "tags": []
          },
          "execution_count": 14
        }
      ]
    },
    {
      "cell_type": "code",
      "metadata": {
        "id": "ECTMStkPUjIb",
        "colab_type": "code",
        "outputId": "5cdad394-bde8-4bdb-b034-b7bc79291bc3",
        "colab": {
          "base_uri": "https://localhost:8080/",
          "height": 51
        }
      },
      "source": [
        "#na początek wprowadza dane z klawiatury za pomocą funkcji input()\n",
        "x = input(\"Podaj swoje imię: \")\n",
        "print(\"Hello, \" + x)"
      ],
      "execution_count": 0,
      "outputs": [
        {
          "output_type": "stream",
          "text": [
            "Podaj swoje imię: Michał\n",
            "Hello, Michał\n"
          ],
          "name": "stdout"
        }
      ]
    },
    {
      "cell_type": "code",
      "metadata": {
        "id": "9peVLM8-VRRB",
        "colab_type": "code",
        "outputId": "925d2b97-c5cd-4edc-a3b6-7e5730b92c3e",
        "colab": {
          "base_uri": "https://localhost:8080/",
          "height": 34
        }
      },
      "source": [
        "#definiuję listę\n",
        "org = [\"Dog Rescue\", \"Animal Patrol\", \"Straż Ochrony Zwierząt Animax\"]\n",
        "print(org)\n"
      ],
      "execution_count": 0,
      "outputs": [
        {
          "output_type": "stream",
          "text": [
            "['Dog Rescue', 'Animal Patrol', 'Straż Ochrony Zwierząt Animax']\n"
          ],
          "name": "stdout"
        }
      ]
    },
    {
      "cell_type": "code",
      "metadata": {
        "id": "5avFXUTcVicQ",
        "colab_type": "code",
        "outputId": "db4eca16-04ee-4e08-f55c-2e8c82872571",
        "colab": {
          "base_uri": "https://localhost:8080/",
          "height": 68
        }
      },
      "source": [
        "x=0\n",
        "for i in org:\n",
        "    print(\"element listy o indeksie\", x, \" : \", org[x])\n",
        "    x+=1"
      ],
      "execution_count": 0,
      "outputs": [
        {
          "output_type": "stream",
          "text": [
            "element listy o indeksie 0  :  Dog Rescue\n",
            "element listy o indeksie 1  :  Animal Patrol\n",
            "element listy o indeksie 2  :  Straż Ochrony Zwierząt Animax\n"
          ],
          "name": "stdout"
        }
      ]
    },
    {
      "cell_type": "code",
      "metadata": {
        "id": "PlQdMOXiVwco",
        "colab_type": "code",
        "outputId": "66d349eb-7235-424f-c486-c65e413c6567",
        "colab": {
          "base_uri": "https://localhost:8080/",
          "height": 34
        }
      },
      "source": [
        "org[1]"
      ],
      "execution_count": 0,
      "outputs": [
        {
          "output_type": "execute_result",
          "data": {
            "text/plain": [
              "'Animal Patrol'"
            ]
          },
          "metadata": {
            "tags": []
          },
          "execution_count": 18
        }
      ]
    },
    {
      "cell_type": "code",
      "metadata": {
        "id": "DqINWflxV53s",
        "colab_type": "code",
        "outputId": "0c2022b2-cdbd-41c2-d10c-5209d9545940",
        "colab": {
          "base_uri": "https://localhost:8080/",
          "height": 34
        }
      },
      "source": [
        "print(org[1])"
      ],
      "execution_count": 0,
      "outputs": [
        {
          "output_type": "stream",
          "text": [
            "Animal Patrol\n"
          ],
          "name": "stdout"
        }
      ]
    },
    {
      "cell_type": "code",
      "metadata": {
        "id": "dWhwxOAfWAVX",
        "colab_type": "code",
        "outputId": "822ac06d-be64-4c44-f166-fefcf4aec083",
        "colab": {
          "base_uri": "https://localhost:8080/",
          "height": 34
        }
      },
      "source": [
        "len(org)"
      ],
      "execution_count": 0,
      "outputs": [
        {
          "output_type": "execute_result",
          "data": {
            "text/plain": [
              "3"
            ]
          },
          "metadata": {
            "tags": []
          },
          "execution_count": 20
        }
      ]
    },
    {
      "cell_type": "code",
      "metadata": {
        "id": "bV30WqRUWCQx",
        "colab_type": "code",
        "outputId": "e49c3069-827a-4e5f-d33e-504bd3874cba",
        "colab": {
          "base_uri": "https://localhost:8080/",
          "height": 34
        }
      },
      "source": [
        "type(org)"
      ],
      "execution_count": 0,
      "outputs": [
        {
          "output_type": "execute_result",
          "data": {
            "text/plain": [
              "list"
            ]
          },
          "metadata": {
            "tags": []
          },
          "execution_count": 21
        }
      ]
    },
    {
      "cell_type": "code",
      "metadata": {
        "id": "zzj1eC07WHq4",
        "colab_type": "code",
        "outputId": "479a74da-e18a-48ea-f15c-dedfb6aa2073",
        "colab": {
          "base_uri": "https://localhost:8080/",
          "height": 51
        }
      },
      "source": [
        "x = input(\"Podaj nazwę organizacji prozwierzęcej, aby sprawdzić, czy znajduje się na liście \")\n",
        "\n",
        "if x in org:\n",
        "    print(x,\" jest na liście organizacji\")\n",
        "else:\n",
        "    print(x, \"nie ma na liście organizacji\")"
      ],
      "execution_count": 0,
      "outputs": [
        {
          "output_type": "stream",
          "text": [
            "Podaj nazwę organizacji prozwierzęcej, aby sprawdzić, czy znajduje się na liście Dor Rescue\n",
            "Dor Rescue nie ma na liście organizacji\n"
          ],
          "name": "stdout"
        }
      ]
    },
    {
      "cell_type": "code",
      "metadata": {
        "id": "IbHVPftoWUml",
        "colab_type": "code",
        "colab": {}
      },
      "source": [
        ""
      ],
      "execution_count": 0,
      "outputs": []
    },
    {
      "cell_type": "code",
      "metadata": {
        "id": "6fCefODJWIeM",
        "colab_type": "code",
        "outputId": "73af478f-4d95-4bea-cf93-f217d7e7862a",
        "colab": {
          "base_uri": "https://localhost:8080/",
          "height": 51
        }
      },
      "source": [
        "x = input(\"Podaj nazwę organizacji prozwierzęcej, aby sprawdzić, czy znajduje się na liście \")\n",
        "\n",
        "if x in org:\n",
        "    print(x,\" jest na liście organizacji\")\n",
        "else:\n",
        "    print(x, \"nie ma na liście organizacji\")\n"
      ],
      "execution_count": 0,
      "outputs": [
        {
          "output_type": "stream",
          "text": [
            "Podaj nazwę organizacji prozwierzęcej, aby sprawdzić, czy znajduje się na liście Dog Rescue\n",
            "Dog Rescue  jest na liście organizacji\n"
          ],
          "name": "stdout"
        }
      ]
    },
    {
      "cell_type": "code",
      "metadata": {
        "id": "NzSebOS0WQaL",
        "colab_type": "code",
        "outputId": "88b54a9a-8d6f-4bdd-e699-ef377278022d",
        "colab": {
          "base_uri": "https://localhost:8080/",
          "height": 34
        }
      },
      "source": [
        "DC = [\"Green Arrow\", \"Flash\", \"Iron Man\", \"Batman\"]\n",
        "print(DC)"
      ],
      "execution_count": 0,
      "outputs": [
        {
          "output_type": "stream",
          "text": [
            "['Green Arrow', 'Flash', 'Iron Man', 'Batman']\n"
          ],
          "name": "stdout"
        }
      ]
    },
    {
      "cell_type": "code",
      "metadata": {
        "id": "8dtX8t1TXBdY",
        "colab_type": "code",
        "outputId": "86074510-4df1-49c4-e481-51abb1603c8c",
        "colab": {
          "base_uri": "https://localhost:8080/",
          "height": 34
        }
      },
      "source": [
        "DC"
      ],
      "execution_count": 0,
      "outputs": [
        {
          "output_type": "execute_result",
          "data": {
            "text/plain": [
              "['Green Arrow', 'Flash', 'Iron Man', 'Batman']"
            ]
          },
          "metadata": {
            "tags": []
          },
          "execution_count": 27
        }
      ]
    },
    {
      "cell_type": "code",
      "metadata": {
        "id": "i521EaVaXPjO",
        "colab_type": "code",
        "outputId": "16af60af-fc80-4d9d-b88b-9c9cd848581c",
        "colab": {
          "base_uri": "https://localhost:8080/",
          "height": 34
        }
      },
      "source": [
        "print(DC)"
      ],
      "execution_count": 0,
      "outputs": [
        {
          "output_type": "stream",
          "text": [
            "['Green Arrow', 'Flash', 'Iron Man', 'Batman']\n"
          ],
          "name": "stdout"
        }
      ]
    },
    {
      "cell_type": "code",
      "metadata": {
        "id": "9Z6jU2lLXSSH",
        "colab_type": "code",
        "outputId": "a7a5fbba-cf29-48d3-a24c-1ed1b0ea4014",
        "colab": {
          "base_uri": "https://localhost:8080/",
          "height": 34
        }
      },
      "source": [
        "len(DC)"
      ],
      "execution_count": 0,
      "outputs": [
        {
          "output_type": "execute_result",
          "data": {
            "text/plain": [
              "4"
            ]
          },
          "metadata": {
            "tags": []
          },
          "execution_count": 30
        }
      ]
    },
    {
      "cell_type": "code",
      "metadata": {
        "id": "Xi9wr178XUT0",
        "colab_type": "code",
        "outputId": "4b9d4883-0291-4439-a021-8a48a5a82eb5",
        "colab": {
          "base_uri": "https://localhost:8080/",
          "height": 34
        }
      },
      "source": [
        "DC.index (\"Iron Man\")"
      ],
      "execution_count": 0,
      "outputs": [
        {
          "output_type": "execute_result",
          "data": {
            "text/plain": [
              "2"
            ]
          },
          "metadata": {
            "tags": []
          },
          "execution_count": 31
        }
      ]
    },
    {
      "cell_type": "code",
      "metadata": {
        "id": "OcHk1VSeXePt",
        "colab_type": "code",
        "colab": {}
      },
      "source": [
        "DC.remove (\"Iron Man\")"
      ],
      "execution_count": 0,
      "outputs": []
    },
    {
      "cell_type": "code",
      "metadata": {
        "id": "0AMoO0y6Xjhd",
        "colab_type": "code",
        "outputId": "d4b197da-20a3-4ec2-db43-51c07d29c367",
        "colab": {
          "base_uri": "https://localhost:8080/",
          "height": 163
        }
      },
      "source": [
        "len.DC"
      ],
      "execution_count": 0,
      "outputs": [
        {
          "output_type": "error",
          "ename": "AttributeError",
          "evalue": "ignored",
          "traceback": [
            "\u001b[0;31m---------------------------------------------------------------------------\u001b[0m",
            "\u001b[0;31mAttributeError\u001b[0m                            Traceback (most recent call last)",
            "\u001b[0;32m<ipython-input-33-73fc6d0dacd6>\u001b[0m in \u001b[0;36m<module>\u001b[0;34m()\u001b[0m\n\u001b[0;32m----> 1\u001b[0;31m \u001b[0mlen\u001b[0m\u001b[0;34m.\u001b[0m\u001b[0mDC\u001b[0m\u001b[0;34m\u001b[0m\u001b[0;34m\u001b[0m\u001b[0m\n\u001b[0m",
            "\u001b[0;31mAttributeError\u001b[0m: 'builtin_function_or_method' object has no attribute 'DC'"
          ]
        }
      ]
    },
    {
      "cell_type": "code",
      "metadata": {
        "id": "NiMMbI45Xlr5",
        "colab_type": "code",
        "outputId": "684ef571-092a-4a6b-db9f-d1d4c4829435",
        "colab": {
          "base_uri": "https://localhost:8080/",
          "height": 34
        }
      },
      "source": [
        "len(DC)"
      ],
      "execution_count": 0,
      "outputs": [
        {
          "output_type": "execute_result",
          "data": {
            "text/plain": [
              "3"
            ]
          },
          "metadata": {
            "tags": []
          },
          "execution_count": 34
        }
      ]
    },
    {
      "cell_type": "code",
      "metadata": {
        "id": "r_QKVjgsXm5R",
        "colab_type": "code",
        "colab": {}
      },
      "source": [
        "DC.append (\"Superman\")"
      ],
      "execution_count": 0,
      "outputs": []
    },
    {
      "cell_type": "code",
      "metadata": {
        "id": "9Xf4cU61XtTm",
        "colab_type": "code",
        "outputId": "4ef53b97-081b-4675-c738-aab3a615cfb6",
        "colab": {
          "base_uri": "https://localhost:8080/",
          "height": 34
        }
      },
      "source": [
        "DC"
      ],
      "execution_count": 0,
      "outputs": [
        {
          "output_type": "execute_result",
          "data": {
            "text/plain": [
              "['Green Arrow', 'Flash', 'Batman', 'Superman']"
            ]
          },
          "metadata": {
            "tags": []
          },
          "execution_count": 36
        }
      ]
    },
    {
      "cell_type": "code",
      "metadata": {
        "id": "5nF2viVxX3m3",
        "colab_type": "code",
        "colab": {}
      },
      "source": [
        "DC.insert (2, \"Jocker\")"
      ],
      "execution_count": 0,
      "outputs": []
    },
    {
      "cell_type": "code",
      "metadata": {
        "id": "ZNoORO4BYBAW",
        "colab_type": "code",
        "outputId": "a5926e4f-d3bb-4357-8a19-a6c27b9965e0",
        "colab": {
          "base_uri": "https://localhost:8080/",
          "height": 34
        }
      },
      "source": [
        "DC"
      ],
      "execution_count": 0,
      "outputs": [
        {
          "output_type": "execute_result",
          "data": {
            "text/plain": [
              "['Green Arrow', 'Flash', 'Jocker', 'Batman', 'Superman']"
            ]
          },
          "metadata": {
            "tags": []
          },
          "execution_count": 38
        }
      ]
    },
    {
      "cell_type": "code",
      "metadata": {
        "id": "9fBoXgYbYpoi",
        "colab_type": "code",
        "outputId": "c9febd19-b42d-41a1-f62f-5f155163dea2",
        "colab": {
          "base_uri": "https://localhost:8080/",
          "height": 54
        }
      },
      "source": [
        "x = \"Green Arrow\"\n",
        "if x in DC:\n",
        "    DC.append (\"Black Canary\")\n",
        "    print(DC)\n",
        "else: \n",
        "  print(\"Nie ma elementu\")"
      ],
      "execution_count": 0,
      "outputs": [
        {
          "output_type": "stream",
          "text": [
            "['Green Arrow', 'Flash', 'Jocker', 'Batman', 'Superman', 'Black Canary', 'Black Canary', 'Black Canary', 'Black Canary']\n"
          ],
          "name": "stdout"
        }
      ]
    },
    {
      "cell_type": "code",
      "metadata": {
        "id": "y1zrnTA3YrXr",
        "colab_type": "code",
        "outputId": "f9b8e768-5802-4297-9fae-170de6a0da43",
        "colab": {
          "base_uri": "https://localhost:8080/",
          "height": 136
        }
      },
      "source": [
        "DC"
      ],
      "execution_count": 0,
      "outputs": [
        {
          "output_type": "execute_result",
          "data": {
            "text/plain": [
              "['Green Arrow',\n",
              " 'Flash',\n",
              " 'Jocker',\n",
              " 'Batman',\n",
              " 'Superman',\n",
              " 'Black Canary',\n",
              " 'Black Canary']"
            ]
          },
          "metadata": {
            "tags": []
          },
          "execution_count": 42
        }
      ]
    },
    {
      "cell_type": "code",
      "metadata": {
        "id": "kGOZD2WrYuGA",
        "colab_type": "code",
        "colab": {}
      },
      "source": [
        ""
      ],
      "execution_count": 0,
      "outputs": []
    }
  ]
}